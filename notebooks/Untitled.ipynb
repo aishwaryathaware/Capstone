{
 "cells": [
  {
   "cell_type": "code",
   "execution_count": 3,
   "id": "512ce344",
   "metadata": {},
   "outputs": [],
   "source": [
    "import pandas as pd \n",
    "df_hydsys = pd.read_csv('../datasets/Sensors-predictive-maintenance/hydsys/hydsys.csv')"
   ]
  },
  {
   "cell_type": "code",
   "execution_count": 4,
   "id": "d9649989",
   "metadata": {},
   "outputs": [
    {
     "name": "stdout",
     "output_type": "stream",
     "text": [
      "<class 'pandas.core.frame.DataFrame'>\n",
      "RangeIndex: 19845 entries, 0 to 19844\n",
      "Columns: 602 entries, cycle to 599\n",
      "dtypes: float64(600), int64(1), object(1)\n",
      "memory usage: 91.1+ MB\n"
     ]
    }
   ],
   "source": [
    "df_hydsys.info()"
   ]
  },
  {
   "cell_type": "code",
   "execution_count": 9,
   "id": "f8307c55",
   "metadata": {},
   "outputs": [],
   "source": [
    "types = df_hydsys['sensor'].value_counts().index.tolist()"
   ]
  },
  {
   "cell_type": "code",
   "execution_count": 11,
   "id": "a1a75afb",
   "metadata": {},
   "outputs": [],
   "source": [
    "for t in types:\n",
    "    data = df_hydsys[df_hydsys['sensor'] == t]\n",
    "    data.to_csv(f'../datasets/Sensors-predictive-maintenance/hydsys/hydsys_{t}.csv',index = False)"
   ]
  },
  {
   "cell_type": "code",
   "execution_count": null,
   "id": "65e7139c",
   "metadata": {},
   "outputs": [],
   "source": []
  },
  {
   "cell_type": "code",
   "execution_count": null,
   "id": "4f133f21",
   "metadata": {},
   "outputs": [],
   "source": []
  },
  {
   "cell_type": "code",
   "execution_count": null,
   "id": "36b95484",
   "metadata": {},
   "outputs": [],
   "source": []
  },
  {
   "cell_type": "code",
   "execution_count": null,
   "id": "c4c3cdcf",
   "metadata": {},
   "outputs": [],
   "source": []
  },
  {
   "cell_type": "code",
   "execution_count": 20,
   "id": "b1880005",
   "metadata": {},
   "outputs": [],
   "source": [
    "df_feedback['Date received'] = pd.to_datetime(df_feedback['Date received'])\n",
    "df_feedback = df_feedback.sort_values(by='Date received')\n",
    "\n",
    "rows_per_part = len(df_feedback) // 20\n",
    "\n",
    "parts = [df_feedback.iloc[i:i + rows_per_part] for i in range(0, len(df_feedback), rows_per_part)]\n",
    "\n",
    "for i, part in enumerate(parts):\n",
    "    start_date = part['Date received'].iloc[0].strftime('%Y-%m-%d')\n",
    "    part.to_csv(f'../datasets/Customer Feedback/part_{start_date}.csv', index=False)"
   ]
  }
 ],
 "metadata": {
  "kernelspec": {
   "display_name": "Python 3 (ipykernel)",
   "language": "python",
   "name": "python3"
  },
  "language_info": {
   "codemirror_mode": {
    "name": "ipython",
    "version": 3
   },
   "file_extension": ".py",
   "mimetype": "text/x-python",
   "name": "python",
   "nbconvert_exporter": "python",
   "pygments_lexer": "ipython3",
   "version": "3.9.7"
  }
 },
 "nbformat": 4,
 "nbformat_minor": 5
}

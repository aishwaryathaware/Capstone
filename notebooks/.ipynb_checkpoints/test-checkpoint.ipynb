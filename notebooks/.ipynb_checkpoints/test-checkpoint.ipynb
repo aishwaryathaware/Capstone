{
 "cells": [
  {
   "cell_type": "code",
   "execution_count": 1,
   "metadata": {},
   "outputs": [],
   "source": [
    "import pandas as pd\n",
    "import numpy as np"
   ]
  },
  {
   "cell_type": "code",
   "execution_count": 51,
   "metadata": {},
   "outputs": [
    {
     "name": "stdout",
     "output_type": "stream",
     "text": [
      "<class 'pandas.core.frame.DataFrame'>\n",
      "RangeIndex: 1000 entries, 0 to 999\n",
      "Data columns (total 24 columns):\n",
      " #   Column                   Non-Null Count  Dtype  \n",
      "---  ------                   --------------  -----  \n",
      " 0   Product type             1000 non-null   object \n",
      " 1   SKU                      1000 non-null   object \n",
      " 2   Price                    1000 non-null   float64\n",
      " 3   Availability             1000 non-null   int64  \n",
      " 4   Number of products sold  1000 non-null   int64  \n",
      " 5   Revenue generated        1000 non-null   float64\n",
      " 6   Customer demographics    1000 non-null   object \n",
      " 7   Stock levels             1000 non-null   int64  \n",
      " 8   Lead times               1000 non-null   int64  \n",
      " 9   Order quantities         1000 non-null   int64  \n",
      " 10  Shipping times           1000 non-null   int64  \n",
      " 11  Shipping carriers        1000 non-null   object \n",
      " 12  Shipping costs           1000 non-null   float64\n",
      " 13  Supplier name            1000 non-null   object \n",
      " 14  Location                 1000 non-null   object \n",
      " 15  Lead time                1000 non-null   int64  \n",
      " 16  Production volumes       1000 non-null   int64  \n",
      " 17  Manufacturing lead time  1000 non-null   int64  \n",
      " 18  Manufacturing costs      1000 non-null   float64\n",
      " 19  Inspection results       1000 non-null   object \n",
      " 20  Defect rates             1000 non-null   float64\n",
      " 21  Transportation modes     1000 non-null   object \n",
      " 22  Routes                   1000 non-null   object \n",
      " 23  Costs                    1000 non-null   float64\n",
      "dtypes: float64(6), int64(9), object(9)\n",
      "memory usage: 187.6+ KB\n",
      "None\n"
     ]
    }
   ],
   "source": []
  }
 ],
 "metadata": {
  "kernelspec": {
   "display_name": "Python 3 (ipykernel)",
   "language": "python",
   "name": "python3"
  },
  "language_info": {
   "codemirror_mode": {
    "name": "ipython",
    "version": 3
   },
   "file_extension": ".py",
   "mimetype": "text/x-python",
   "name": "python",
   "nbconvert_exporter": "python",
   "pygments_lexer": "ipython3",
   "version": "3.9.7"
  }
 },
 "nbformat": 4,
 "nbformat_minor": 2
}
